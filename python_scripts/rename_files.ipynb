{
 "cells": [
  {
   "cell_type": "code",
   "execution_count": 1,
   "id": "e7532b33-5830-4d14-9c0a-2e2c98ae29f7",
   "metadata": {},
   "outputs": [
    {
     "data": {
      "text/plain": [
       "10015"
      ]
     },
     "execution_count": 1,
     "metadata": {},
     "output_type": "execute_result"
    }
   ],
   "source": [
    "import os\n",
    "import tqdm\n",
    "\n",
    "# Specify the directory where the files are located\n",
    "directory = \"./ham10k/masks\"  # Change this to your directory\n",
    "\n",
    "# Get a list of all files in the directory\n",
    "files = os.listdir(directory)\n",
    "\n",
    "len(files)\n"
   ]
  },
  {
   "cell_type": "code",
   "execution_count": 2,
   "id": "25bda0f5-c968-4285-a274-54034458b246",
   "metadata": {},
   "outputs": [
    {
     "data": {
      "text/plain": [
       "'ISIC_0024306_segmentation.png'"
      ]
     },
     "execution_count": 2,
     "metadata": {},
     "output_type": "execute_result"
    }
   ],
   "source": [
    "files[0]"
   ]
  },
  {
   "cell_type": "code",
   "execution_count": 24,
   "id": "6b4791bb-e090-456c-9596-8a74cd6ac3b6",
   "metadata": {},
   "outputs": [
    {
     "name": "stderr",
     "output_type": "stream",
     "text": [
      "1000it [00:00, 3117.41it/s]"
     ]
    },
    {
     "name": "stdout",
     "output_type": "stream",
     "text": [
      "Files renamed successfully!\n"
     ]
    },
    {
     "name": "stderr",
     "output_type": "stream",
     "text": [
      "\n"
     ]
    }
   ],
   "source": [
    "# Sort the files if needed\n",
    "\n",
    "# Loop through the files and rename them\n",
    "for index, filename in tqdm.tqdm(enumerate(files)):\n",
    "    # Construct the old file path\n",
    "    old_file_path = os.path.join(directory, filename)\n",
    "    \n",
    "    # Create a new filename (e.g., file_0.txt, file_1.txt, etc.)\n",
    "    new_filename = f'KVASIR_{index:05d}{os.path.splitext(filename)[1]}'  # Preserves the original file extension\n",
    "    new_file_path = os.path.join(directory, new_filename)\n",
    "\n",
    "    # Rename the file\n",
    "    os.rename(old_file_path, new_file_path)\n",
    "\n",
    "print(\"Files renamed successfully!\")"
   ]
  },
  {
   "cell_type": "code",
   "execution_count": 4,
   "id": "373cf4f9-f831-43b2-878e-caa22752f8cb",
   "metadata": {},
   "outputs": [
    {
     "name": "stderr",
     "output_type": "stream",
     "text": [
      "200it [00:00, 3183.23it/s]"
     ]
    },
    {
     "name": "stdout",
     "output_type": "stream",
     "text": [
      "Files renamed successfully!\n"
     ]
    },
    {
     "name": "stderr",
     "output_type": "stream",
     "text": [
      "\n"
     ]
    }
   ],
   "source": [
    "# Loop through the files and rename them\n",
    "for index, filename in tqdm.tqdm(enumerate(files)):\n",
    "    # Construct the old file path\n",
    "    old_file_path = os.path.join(directory, filename)\n",
    "    \n",
    "    # Remove 'lesion' from the filename\n",
    "    base_name, extension = os.path.splitext(filename)\n",
    "    new_base_name = base_name.replace('_lesion', '')  # Remove '_lesion'\n",
    "    new_filename = f'{new_base_name}{extension}'\n",
    "    \n",
    "    # Construct the new file path\n",
    "    new_file_path = os.path.join(directory, new_filename)\n",
    "\n",
    "    # Rename the file\n",
    "    os.rename(old_file_path, new_file_path)\n",
    "\n",
    "print(\"Files renamed successfully!\")\n"
   ]
  },
  {
   "cell_type": "code",
   "execution_count": 3,
   "id": "9143fb35-30c4-44fb-9587-b330bdd36e6c",
   "metadata": {},
   "outputs": [
    {
     "name": "stderr",
     "output_type": "stream",
     "text": [
      "10015it [00:02, 3532.07it/s]"
     ]
    },
    {
     "name": "stdout",
     "output_type": "stream",
     "text": [
      "Files renamed successfully!\n"
     ]
    },
    {
     "name": "stderr",
     "output_type": "stream",
     "text": [
      "\n"
     ]
    }
   ],
   "source": [
    "# Loop through the files and rename them\n",
    "for index, filename in tqdm.tqdm(enumerate(files)):\n",
    "    # Construct the old file path\n",
    "    old_file_path = os.path.join(directory, filename)\n",
    "    \n",
    "    # Remove 'lesion' from the filename\n",
    "    base_name, extension = os.path.splitext(filename)\n",
    "    new_base_name = base_name.replace('_segmentation', '')  # Remove '_lesion'\n",
    "    new_filename = f'{new_base_name}{extension}'\n",
    "    \n",
    "    # Construct the new file path\n",
    "    new_file_path = os.path.join(directory, new_filename)\n",
    "\n",
    "    # Rename the file\n",
    "    os.rename(old_file_path, new_file_path)\n",
    "\n",
    "print(\"Files renamed successfully!\")"
   ]
  },
  {
   "cell_type": "code",
   "execution_count": null,
   "id": "b10a12f6-3c7a-4737-a53e-09add7d60ef7",
   "metadata": {},
   "outputs": [],
   "source": []
  },
  {
   "cell_type": "code",
   "execution_count": null,
   "id": "0e47ae46-45c4-425a-8241-4c7c6276b4e2",
   "metadata": {},
   "outputs": [],
   "source": []
  }
 ],
 "metadata": {
  "kernelspec": {
   "display_name": "Python 3 (ipykernel)",
   "language": "python",
   "name": "python3"
  },
  "language_info": {
   "codemirror_mode": {
    "name": "ipython",
    "version": 3
   },
   "file_extension": ".py",
   "mimetype": "text/x-python",
   "name": "python",
   "nbconvert_exporter": "python",
   "pygments_lexer": "ipython3",
   "version": "3.9.19"
  }
 },
 "nbformat": 4,
 "nbformat_minor": 5
}
