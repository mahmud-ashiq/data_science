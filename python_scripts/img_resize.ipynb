{
 "cells": [
  {
   "cell_type": "code",
   "execution_count": 1,
   "id": "dd56b4c4-800a-4b60-9170-3a71bf70998f",
   "metadata": {},
   "outputs": [],
   "source": [
    "import cv2\n",
    "import os\n",
    "import tqdm"
   ]
  },
  {
   "cell_type": "code",
   "execution_count": 2,
   "id": "a7f18765-b31a-4c97-8e17-b3336ff7ab08",
   "metadata": {},
   "outputs": [],
   "source": [
    "def resize_images_in_folder(input_folder, new_width, new_height):\n",
    "    \"\"\"\n",
    "    Resizes all images in a folder and overwrites the original files.\n",
    "\n",
    "    Parameters:\n",
    "    - input_folder: The folder containing the images to resize.\n",
    "    - new_width: The new width for resizing the images.\n",
    "    - new_height: The new height for resizing the images.\n",
    "    \"\"\"\n",
    "    # Loop over all the images in the folder\n",
    "    for filename in tqdm.tqdm(os.listdir(input_folder)):\n",
    "        image_path = os.path.join(input_folder, filename)\n",
    "        image = cv2.imread(image_path)\n",
    "\n",
    "        resized_image = cv2.resize(image, (new_width, new_height))             \n",
    "        cv2.imwrite(image_path, resized_image)\n",
    "    print(\"Processing completed.\")"
   ]
  },
  {
   "cell_type": "code",
   "execution_count": 7,
   "id": "fb2a6440-008d-4738-ab57-0e4fa3758d95",
   "metadata": {},
   "outputs": [
    {
     "name": "stderr",
     "output_type": "stream",
     "text": [
      "100%|███████████████████████████████████████████████████████████████████████████████| 800/800 [00:07<00:00, 102.49it/s]\n"
     ]
    },
    {
     "name": "stdout",
     "output_type": "stream",
     "text": [
      "Processing completed.\n"
     ]
    },
    {
     "name": "stderr",
     "output_type": "stream",
     "text": [
      "100%|███████████████████████████████████████████████████████████████████████████████| 800/800 [00:06<00:00, 123.71it/s]\n"
     ]
    },
    {
     "name": "stdout",
     "output_type": "stream",
     "text": [
      "Processing completed.\n"
     ]
    },
    {
     "name": "stderr",
     "output_type": "stream",
     "text": [
      "100%|███████████████████████████████████████████████████████████████████████████████| 200/200 [00:01<00:00, 105.58it/s]\n"
     ]
    },
    {
     "name": "stdout",
     "output_type": "stream",
     "text": [
      "Processing completed.\n"
     ]
    },
    {
     "name": "stderr",
     "output_type": "stream",
     "text": [
      "100%|███████████████████████████████████████████████████████████████████████████████| 200/200 [00:01<00:00, 128.80it/s]"
     ]
    },
    {
     "name": "stdout",
     "output_type": "stream",
     "text": [
      "Processing completed.\n"
     ]
    },
    {
     "name": "stderr",
     "output_type": "stream",
     "text": [
      "\n"
     ]
    }
   ],
   "source": [
    "# kvasir-seg\n",
    "resize_images_in_folder('./kvasir-seg/train/images', 256, 256)\n",
    "resize_images_in_folder('./kvasir-seg/train/masks', 256, 256)\n",
    "resize_images_in_folder('./kvasir-seg/val/images', 256, 256)\n",
    "resize_images_in_folder('./kvasir-seg/val/masks', 256, 256)"
   ]
  },
  {
   "cell_type": "code",
   "execution_count": 8,
   "id": "733a1ea5-9fcb-40f3-8d34-d0b116f61c3e",
   "metadata": {},
   "outputs": [
    {
     "name": "stderr",
     "output_type": "stream",
     "text": [
      "100%|██████████████████████████████████████████████████████████████████████████████| 2184/2184 [00:31<00:00, 69.90it/s]\n"
     ]
    },
    {
     "name": "stdout",
     "output_type": "stream",
     "text": [
      "Processing completed.\n"
     ]
    },
    {
     "name": "stderr",
     "output_type": "stream",
     "text": [
      "100%|█████████████████████████████████████████████████████████████████████████████| 2184/2184 [00:18<00:00, 120.92it/s]\n"
     ]
    },
    {
     "name": "stdout",
     "output_type": "stream",
     "text": [
      "Processing completed.\n"
     ]
    },
    {
     "name": "stderr",
     "output_type": "stream",
     "text": [
      "100%|████████████████████████████████████████████████████████████████████████████████| 545/545 [00:06<00:00, 81.93it/s]\n"
     ]
    },
    {
     "name": "stdout",
     "output_type": "stream",
     "text": [
      "Processing completed.\n"
     ]
    },
    {
     "name": "stderr",
     "output_type": "stream",
     "text": [
      "100%|███████████████████████████████████████████████████████████████████████████████| 545/545 [00:04<00:00, 126.14it/s]"
     ]
    },
    {
     "name": "stdout",
     "output_type": "stream",
     "text": [
      "Processing completed.\n"
     ]
    },
    {
     "name": "stderr",
     "output_type": "stream",
     "text": [
      "\n"
     ]
    }
   ],
   "source": [
    "#covid-lls\n",
    "resize_images_in_folder('./covid-lls/train/images', 256, 256)\n",
    "resize_images_in_folder('./covid-lls/train/masks', 256, 256)\n",
    "resize_images_in_folder('./covid-lls/val/images', 256, 256)\n",
    "resize_images_in_folder('./covid-lls/val/masks', 256, 256)"
   ]
  },
  {
   "cell_type": "code",
   "execution_count": 5,
   "id": "82d3c33b-563e-4880-926e-57762185852a",
   "metadata": {},
   "outputs": [
    {
     "name": "stderr",
     "output_type": "stream",
     "text": [
      "100%|███████████████████████████████████████████████████████████████████████████████| 160/160 [00:00<00:00, 373.87it/s]\n"
     ]
    },
    {
     "name": "stdout",
     "output_type": "stream",
     "text": [
      "Processing completed.\n"
     ]
    },
    {
     "name": "stderr",
     "output_type": "stream",
     "text": [
      "100%|███████████████████████████████████████████████████████████████████████████████| 160/160 [00:00<00:00, 504.53it/s]\n"
     ]
    },
    {
     "name": "stdout",
     "output_type": "stream",
     "text": [
      "Processing completed.\n"
     ]
    },
    {
     "name": "stderr",
     "output_type": "stream",
     "text": [
      "100%|█████████████████████████████████████████████████████████████████████████████████| 40/40 [00:00<00:00, 417.24it/s]\n"
     ]
    },
    {
     "name": "stdout",
     "output_type": "stream",
     "text": [
      "Processing completed.\n"
     ]
    },
    {
     "name": "stderr",
     "output_type": "stream",
     "text": [
      "100%|█████████████████████████████████████████████████████████████████████████████████| 40/40 [00:00<00:00, 520.10it/s]"
     ]
    },
    {
     "name": "stdout",
     "output_type": "stream",
     "text": [
      "Processing completed.\n"
     ]
    },
    {
     "name": "stderr",
     "output_type": "stream",
     "text": [
      "\n"
     ]
    }
   ],
   "source": [
    "# ph2\n",
    "resize_images_in_folder('./ph2/train/images', 256, 256)\n",
    "resize_images_in_folder('./ph2/train/masks', 256, 256)\n",
    "resize_images_in_folder('./ph2/val/images', 256, 256)\n",
    "resize_images_in_folder('./ph2/val/masks', 256, 256)"
   ]
  },
  {
   "cell_type": "code",
   "execution_count": 3,
   "id": "8f15a7c0-ff0c-4871-9043-c7a29250891d",
   "metadata": {},
   "outputs": [
    {
     "name": "stderr",
     "output_type": "stream",
     "text": [
      "100%|██████████████████████████████████████████████████████████████████████████████| 2400/2400 [00:29<00:00, 82.04it/s]\n"
     ]
    },
    {
     "name": "stdout",
     "output_type": "stream",
     "text": [
      "Processing completed.\n"
     ]
    },
    {
     "name": "stderr",
     "output_type": "stream",
     "text": [
      "100%|█████████████████████████████████████████████████████████████████████████████| 2400/2400 [00:06<00:00, 353.90it/s]\n"
     ]
    },
    {
     "name": "stdout",
     "output_type": "stream",
     "text": [
      "Processing completed.\n"
     ]
    },
    {
     "name": "stderr",
     "output_type": "stream",
     "text": [
      "100%|███████████████████████████████████████████████████████████████████████████████| 600/600 [00:05<00:00, 117.32it/s]\n"
     ]
    },
    {
     "name": "stdout",
     "output_type": "stream",
     "text": [
      "Processing completed.\n"
     ]
    },
    {
     "name": "stderr",
     "output_type": "stream",
     "text": [
      "100%|███████████████████████████████████████████████████████████████████████████████| 600/600 [00:01<00:00, 345.30it/s]"
     ]
    },
    {
     "name": "stdout",
     "output_type": "stream",
     "text": [
      "Processing completed.\n"
     ]
    },
    {
     "name": "stderr",
     "output_type": "stream",
     "text": [
      "\n"
     ]
    }
   ],
   "source": [
    "# ph2\n",
    "resize_images_in_folder('./ham10k/train/images', 256, 256)\n",
    "resize_images_in_folder('./ham10k/train/masks', 256, 256)\n",
    "resize_images_in_folder('./ham10k/val/images', 256, 256)\n",
    "resize_images_in_folder('./ham10k/val/masks', 256, 256)"
   ]
  },
  {
   "cell_type": "code",
   "execution_count": 3,
   "id": "4699a9d5-0a1f-41a6-8446-6abe4cbc805a",
   "metadata": {},
   "outputs": [
    {
     "name": "stderr",
     "output_type": "stream",
     "text": [
      "100%|███████████████████████████████████████████████████████████████████████████████| 800/800 [00:02<00:00, 373.30it/s]\n"
     ]
    },
    {
     "name": "stdout",
     "output_type": "stream",
     "text": [
      "Processing completed.\n"
     ]
    },
    {
     "name": "stderr",
     "output_type": "stream",
     "text": [
      "100%|███████████████████████████████████████████████████████████████████████████████| 800/800 [00:01<00:00, 406.74it/s]\n"
     ]
    },
    {
     "name": "stdout",
     "output_type": "stream",
     "text": [
      "Processing completed.\n"
     ]
    },
    {
     "name": "stderr",
     "output_type": "stream",
     "text": [
      "100%|███████████████████████████████████████████████████████████████████████████████| 200/200 [00:00<00:00, 367.19it/s]\n"
     ]
    },
    {
     "name": "stdout",
     "output_type": "stream",
     "text": [
      "Processing completed.\n"
     ]
    },
    {
     "name": "stderr",
     "output_type": "stream",
     "text": [
      "100%|███████████████████████████████████████████████████████████████████████████████| 200/200 [00:00<00:00, 416.88it/s]"
     ]
    },
    {
     "name": "stdout",
     "output_type": "stream",
     "text": [
      "Processing completed.\n"
     ]
    },
    {
     "name": "stderr",
     "output_type": "stream",
     "text": [
      "\n"
     ]
    }
   ],
   "source": [
    "# ecssd\n",
    "resize_images_in_folder('./ecssd/train/images', 256, 256)\n",
    "resize_images_in_folder('./ecssd/train/masks', 256, 256)\n",
    "resize_images_in_folder('./ecssd/val/images', 256, 256)\n",
    "resize_images_in_folder('./ecssd/val/masks', 256, 256)"
   ]
  },
  {
   "cell_type": "code",
   "execution_count": 3,
   "id": "7e0a43e0-2cc0-49ea-9c5e-8687d14d0b49",
   "metadata": {},
   "outputs": [
    {
     "name": "stderr",
     "output_type": "stream",
     "text": [
      "100%|█████████████████████████████████████████████████████████████████████████████| 1600/1600 [00:03<00:00, 405.49it/s]\n"
     ]
    },
    {
     "name": "stdout",
     "output_type": "stream",
     "text": [
      "Processing completed.\n"
     ]
    },
    {
     "name": "stderr",
     "output_type": "stream",
     "text": [
      "100%|█████████████████████████████████████████████████████████████████████████████| 1600/1600 [00:04<00:00, 373.91it/s]\n"
     ]
    },
    {
     "name": "stdout",
     "output_type": "stream",
     "text": [
      "Processing completed.\n"
     ]
    },
    {
     "name": "stderr",
     "output_type": "stream",
     "text": [
      "100%|███████████████████████████████████████████████████████████████████████████████| 400/400 [00:00<00:00, 422.51it/s]\n"
     ]
    },
    {
     "name": "stdout",
     "output_type": "stream",
     "text": [
      "Processing completed.\n"
     ]
    },
    {
     "name": "stderr",
     "output_type": "stream",
     "text": [
      "100%|███████████████████████████████████████████████████████████████████████████████| 400/400 [00:01<00:00, 352.87it/s]"
     ]
    },
    {
     "name": "stdout",
     "output_type": "stream",
     "text": [
      "Processing completed.\n"
     ]
    },
    {
     "name": "stderr",
     "output_type": "stream",
     "text": [
      "\n"
     ]
    }
   ],
   "source": [
    "# duts\n",
    "resize_images_in_folder('./duts/train/images', 256, 256)\n",
    "resize_images_in_folder('./duts/train/masks', 256, 256)\n",
    "resize_images_in_folder('./duts/val/images', 256, 256)\n",
    "resize_images_in_folder('./duts/val/masks', 256, 256)"
   ]
  },
  {
   "cell_type": "code",
   "execution_count": 4,
   "id": "992319cb-d28f-48dd-9e3d-17cf27194fe7",
   "metadata": {},
   "outputs": [
    {
     "name": "stderr",
     "output_type": "stream",
     "text": [
      "100%|██████████████████████████████████████████████████████████████████████████████| 1600/1600 [00:24<00:00, 65.68it/s]\n"
     ]
    },
    {
     "name": "stdout",
     "output_type": "stream",
     "text": [
      "Processing completed.\n"
     ]
    },
    {
     "name": "stderr",
     "output_type": "stream",
     "text": [
      "100%|██████████████████████████████████████████████████████████████████████████████| 1600/1600 [00:40<00:00, 39.60it/s]\n"
     ]
    },
    {
     "name": "stdout",
     "output_type": "stream",
     "text": [
      "Processing completed.\n"
     ]
    },
    {
     "name": "stderr",
     "output_type": "stream",
     "text": [
      "100%|████████████████████████████████████████████████████████████████████████████████| 400/400 [00:06<00:00, 64.09it/s]\n"
     ]
    },
    {
     "name": "stdout",
     "output_type": "stream",
     "text": [
      "Processing completed.\n"
     ]
    },
    {
     "name": "stderr",
     "output_type": "stream",
     "text": [
      "100%|████████████████████████████████████████████████████████████████████████████████| 400/400 [00:09<00:00, 40.03it/s]"
     ]
    },
    {
     "name": "stdout",
     "output_type": "stream",
     "text": [
      "Processing completed.\n"
     ]
    },
    {
     "name": "stderr",
     "output_type": "stream",
     "text": [
      "\n"
     ]
    }
   ],
   "source": [
    "# p3m\n",
    "resize_images_in_folder('./p3m/train/images', 256, 256)\n",
    "resize_images_in_folder('./p3m/train/masks', 256, 256)\n",
    "resize_images_in_folder('./p3m/val/images', 256, 256)\n",
    "resize_images_in_folder('./p3m/val/masks', 256, 256)"
   ]
  },
  {
   "cell_type": "code",
   "execution_count": 3,
   "id": "72653b04-c1f6-4cfa-81fd-0b41409e1692",
   "metadata": {},
   "outputs": [
    {
     "name": "stderr",
     "output_type": "stream",
     "text": [
      "100%|█████████████████████████████████████████████████████████████████████████████| 1600/1600 [00:04<00:00, 396.12it/s]\n"
     ]
    },
    {
     "name": "stdout",
     "output_type": "stream",
     "text": [
      "Processing completed.\n"
     ]
    },
    {
     "name": "stderr",
     "output_type": "stream",
     "text": [
      "100%|█████████████████████████████████████████████████████████████████████████████| 1600/1600 [00:03<00:00, 415.65it/s]\n"
     ]
    },
    {
     "name": "stdout",
     "output_type": "stream",
     "text": [
      "Processing completed.\n"
     ]
    },
    {
     "name": "stderr",
     "output_type": "stream",
     "text": [
      "100%|███████████████████████████████████████████████████████████████████████████████| 400/400 [00:01<00:00, 396.48it/s]\n"
     ]
    },
    {
     "name": "stdout",
     "output_type": "stream",
     "text": [
      "Processing completed.\n"
     ]
    },
    {
     "name": "stderr",
     "output_type": "stream",
     "text": [
      "100%|███████████████████████████████████████████████████████████████████████████████| 400/400 [00:01<00:00, 369.35it/s]"
     ]
    },
    {
     "name": "stdout",
     "output_type": "stream",
     "text": [
      "Processing completed.\n"
     ]
    },
    {
     "name": "stderr",
     "output_type": "stream",
     "text": [
      "\n"
     ]
    }
   ],
   "source": [
    "# p3m\n",
    "resize_images_in_folder('./dut-omron/train/images', 256, 256)\n",
    "resize_images_in_folder('./dut-omron/train/masks', 256, 256)\n",
    "resize_images_in_folder('./dut-omron/val/images', 256, 256)\n",
    "resize_images_in_folder('./dut-omron/val/masks', 256, 256)"
   ]
  }
 ],
 "metadata": {
  "kernelspec": {
   "display_name": "Python 3 (ipykernel)",
   "language": "python",
   "name": "python3"
  },
  "language_info": {
   "codemirror_mode": {
    "name": "ipython",
    "version": 3
   },
   "file_extension": ".py",
   "mimetype": "text/x-python",
   "name": "python",
   "nbconvert_exporter": "python",
   "pygments_lexer": "ipython3",
   "version": "3.9.19"
  }
 },
 "nbformat": 4,
 "nbformat_minor": 5
}
