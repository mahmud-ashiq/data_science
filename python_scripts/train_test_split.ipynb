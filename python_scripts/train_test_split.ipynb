{
 "cells": [
  {
   "cell_type": "code",
   "execution_count": 1,
   "id": "de077520-3c16-48e5-8b66-b8af6ea70c52",
   "metadata": {},
   "outputs": [],
   "source": [
    "import os\n",
    "import shutil\n",
    "import tqdm\n",
    "from sklearn.model_selection import train_test_split"
   ]
  },
  {
   "cell_type": "code",
   "execution_count": 2,
   "id": "2588e5e4-e5de-4b33-be30-cc2b9bf4db46",
   "metadata": {},
   "outputs": [],
   "source": [
    "def split_dataset(images_path, masks_path, train_images_path, train_masks_path, val_images_path, val_masks_path, split_ratio=0.2, random_seed=42):\n",
    "    \"\"\"\n",
    "    Splits image and mask datasets into train and validation sets.\n",
    "\n",
    "    Args:\n",
    "        images_path (str): Path to the folder containing images.\n",
    "        masks_path (str): Path to the folder containing masks.\n",
    "        train_images_path (str): Path to save the training images.\n",
    "        train_masks_path (str): Path to save the training masks.\n",
    "        val_images_path (str): Path to save the validation images.\n",
    "        val_masks_path (str): Path to save the validation masks.\n",
    "        split_ratio (float): Proportion of the dataset to include in the validation set (default 0.2).\n",
    "        random_seed (int): Random seed for reproducibility (default 42).\n",
    "    \"\"\"\n",
    "\n",
    "    # Create train and val directories if they don't exist\n",
    "    os.makedirs(train_images_path, exist_ok=True)\n",
    "    os.makedirs(train_masks_path, exist_ok=True)\n",
    "    os.makedirs(val_images_path, exist_ok=True)\n",
    "    os.makedirs(val_masks_path, exist_ok=True)\n",
    "\n",
    "    # Get a list of all images and masks\n",
    "    image_files = sorted(os.listdir(images_path))\n",
    "    mask_files = sorted(os.listdir(masks_path))\n",
    "\n",
    "    # Ensure images and masks are paired correctly (assuming names match exactly)\n",
    "    assert len(image_files) == len(mask_files), \"The number of images and masks should be the same.\"\n",
    "    image_mask_pairs = [(img, msk) for img, msk in zip(image_files, mask_files) if img.split('.')[0] == msk.split('.')[0]]\n",
    "\n",
    "    # Split the dataset\n",
    "    train_pairs, val_pairs = train_test_split(image_mask_pairs, test_size=split_ratio, random_state=random_seed)\n",
    "\n",
    "    # Function to copy files\n",
    "    def copy_files(pairs, src_img_folder, src_mask_folder, dst_img_folder, dst_mask_folder):\n",
    "        for img_file, mask_file in tqdm.tqdm(pairs):\n",
    "            # Copy the image\n",
    "            shutil.copy(os.path.join(src_img_folder, img_file), os.path.join(dst_img_folder, img_file))\n",
    "            # Copy the corresponding mask\n",
    "            shutil.copy(os.path.join(src_mask_folder, mask_file), os.path.join(dst_mask_folder, mask_file))\n",
    "\n",
    "    # Copy the train files\n",
    "    copy_files(train_pairs, images_path, masks_path, train_images_path, train_masks_path)\n",
    "\n",
    "    # Copy the validation files\n",
    "    copy_files(val_pairs, images_path, masks_path, val_images_path, val_masks_path)\n",
    "\n",
    "    print(\"Dataset split completed!\")"
   ]
  },
  {
   "cell_type": "code",
   "execution_count": 14,
   "id": "d7962483-d16b-41f4-8253-03c612aee0f1",
   "metadata": {},
   "outputs": [
    {
     "name": "stderr",
     "output_type": "stream",
     "text": [
      "100%|█████████████████████████████████████████████████████████████████████████████| 2183/2183 [00:04<00:00, 486.76it/s]\n",
      "100%|███████████████████████████████████████████████████████████████████████████████| 546/546 [00:01<00:00, 520.73it/s]"
     ]
    },
    {
     "name": "stdout",
     "output_type": "stream",
     "text": [
      "Dataset split completed!\n"
     ]
    },
    {
     "name": "stderr",
     "output_type": "stream",
     "text": [
      "\n"
     ]
    }
   ],
   "source": [
    "# covid-lls\n",
    "split_dataset(\n",
    "    images_path='./covid-lls/images',\n",
    "    masks_path='./covid-lls/masks',\n",
    "    train_images_path='./covid-lls/train/images',\n",
    "    train_masks_path='./covid-lls/train/masks',\n",
    "    val_images_path='./covid-lls/val/images',\n",
    "    val_masks_path='./covid-lls/val/masks',\n",
    "    split_ratio=0.2,  # 80% train, 20% val\n",
    "    random_seed=42\n",
    ")"
   ]
  },
  {
   "cell_type": "code",
   "execution_count": 15,
   "id": "1e730c1f-c889-4845-928f-88ca66b941c7",
   "metadata": {},
   "outputs": [
    {
     "name": "stderr",
     "output_type": "stream",
     "text": [
      "100%|███████████████████████████████████████████████████████████████████████████████| 800/800 [00:05<00:00, 158.83it/s]\n",
      "100%|███████████████████████████████████████████████████████████████████████████████| 200/200 [00:01<00:00, 157.88it/s]"
     ]
    },
    {
     "name": "stdout",
     "output_type": "stream",
     "text": [
      "Dataset split completed!\n"
     ]
    },
    {
     "name": "stderr",
     "output_type": "stream",
     "text": [
      "\n"
     ]
    }
   ],
   "source": [
    "#kvasir-seg\n",
    "# covid-lls\n",
    "split_dataset(\n",
    "    images_path='./kvasir-seg/images',\n",
    "    masks_path='./kvasir-seg/masks',\n",
    "    train_images_path='./kvasir-seg/train/images',\n",
    "    train_masks_path='./kvasir-seg/train/masks',\n",
    "    val_images_path='./kvasir-seg/val/images',\n",
    "    val_masks_path='./kvasir-seg/val/masks',\n",
    "    split_ratio=0.2,  # 80% train, 20% val\n",
    "    random_seed=42\n",
    ")"
   ]
  },
  {
   "cell_type": "code",
   "execution_count": 6,
   "id": "00798b73-a54e-4dc7-8e5f-3f13d3a67559",
   "metadata": {},
   "outputs": [
    {
     "name": "stderr",
     "output_type": "stream",
     "text": [
      "100%|███████████████████████████████████████████████████████████████████████████████| 160/160 [00:00<00:00, 296.11it/s]\n",
      "100%|█████████████████████████████████████████████████████████████████████████████████| 40/40 [00:00<00:00, 334.03it/s]"
     ]
    },
    {
     "name": "stdout",
     "output_type": "stream",
     "text": [
      "Dataset split completed!\n"
     ]
    },
    {
     "name": "stderr",
     "output_type": "stream",
     "text": [
      "\n"
     ]
    }
   ],
   "source": [
    "# ph2\n",
    "split_dataset(\n",
    "    images_path='./ph2/images',\n",
    "    masks_path='./ph2/masks',\n",
    "    train_images_path='./ph2/train/images',\n",
    "    train_masks_path='./ph2/train/masks',\n",
    "    val_images_path='./ph2/val/images',\n",
    "    val_masks_path='./ph2/val/masks',\n",
    "    split_ratio=0.2,  # 80% train, 20% val\n",
    "    random_seed=42\n",
    ")"
   ]
  },
  {
   "cell_type": "code",
   "execution_count": 4,
   "id": "61196c8d-6747-4061-85c5-95691c7fd13e",
   "metadata": {},
   "outputs": [
    {
     "name": "stderr",
     "output_type": "stream",
     "text": [
      "100%|██████████████████████████████████████████████████████████████████████████████| 8012/8012 [02:03<00:00, 64.70it/s]\n",
      "100%|██████████████████████████████████████████████████████████████████████████████| 2003/2003 [00:34<00:00, 58.42it/s]"
     ]
    },
    {
     "name": "stdout",
     "output_type": "stream",
     "text": [
      "Dataset split completed!\n"
     ]
    },
    {
     "name": "stderr",
     "output_type": "stream",
     "text": [
      "\n"
     ]
    }
   ],
   "source": [
    "# ham10k\n",
    "split_dataset(\n",
    "    images_path='./ham10k/images',\n",
    "    masks_path='./ham10k/masks',\n",
    "    train_images_path='./ham10k/train/images',\n",
    "    train_masks_path='./ham10k/train/masks',\n",
    "    val_images_path='./ham10k/val/images',\n",
    "    val_masks_path='./ham10k/val/masks',\n",
    "    split_ratio=0.2,  # 80% train, 20% val\n",
    "    random_seed=42\n",
    ")"
   ]
  },
  {
   "cell_type": "code",
   "execution_count": 9,
   "id": "b50065d1-17f9-4714-8d73-6a8b0ff70660",
   "metadata": {},
   "outputs": [
    {
     "name": "stderr",
     "output_type": "stream",
     "text": [
      "100%|███████████████████████████████████████████████████████████████████████████████| 800/800 [00:03<00:00, 249.42it/s]\n",
      "100%|███████████████████████████████████████████████████████████████████████████████| 200/200 [00:00<00:00, 229.19it/s]"
     ]
    },
    {
     "name": "stdout",
     "output_type": "stream",
     "text": [
      "Dataset split completed!\n"
     ]
    },
    {
     "name": "stderr",
     "output_type": "stream",
     "text": [
      "\n"
     ]
    }
   ],
   "source": [
    "# ecssd\n",
    "split_dataset(\n",
    "    images_path='./ecssd/images',\n",
    "    masks_path='./ecssd/masks',\n",
    "    train_images_path='./ecssd/train/images',\n",
    "    train_masks_path='./ecssd/train/masks',\n",
    "    val_images_path='./ecssd/val/images',\n",
    "    val_masks_path='./ecssd/val/masks',\n",
    "    split_ratio=0.2,  # 80% train, 20% val\n",
    "    random_seed=42\n",
    ")"
   ]
  },
  {
   "cell_type": "code",
   "execution_count": 2,
   "id": "0da03796-c721-4d54-b7a2-aa79cb7a5aa6",
   "metadata": {},
   "outputs": [],
   "source": [
    "import os\n",
    "import shutil\n",
    "import tqdm\n",
    "import random\n",
    "from sklearn.model_selection import train_test_split\n",
    "\n",
    "def split_dataset(images_path, masks_path, train_images_path, train_masks_path, val_images_path, val_masks_path, split_ratio=0.2, random_seed=42, num_images=None):\n",
    "    \"\"\"\n",
    "    Splits image and mask datasets into train and validation sets.\n",
    "\n",
    "    Args:\n",
    "        images_path (str): Path to the folder containing images.\n",
    "        masks_path (str): Path to the folder containing masks.\n",
    "        train_images_path (str): Path to save the training images.\n",
    "        train_masks_path (str): Path to save the training masks.\n",
    "        val_images_path (str): Path to save the validation images.\n",
    "        val_masks_path (str): Path to save the validation masks.\n",
    "        split_ratio (float): Proportion of the dataset to include in the validation set (default 0.2).\n",
    "        random_seed (int): Random seed for reproducibility (default 42).\n",
    "        num_images (int, optional): Number of images to select randomly from the dataset. If None, all images are used.\n",
    "    \"\"\"\n",
    "\n",
    "    # Set the random seed for reproducibility\n",
    "    random.seed(random_seed)\n",
    "\n",
    "    # Create train and val directories if they don't exist\n",
    "    os.makedirs(train_images_path, exist_ok=True)\n",
    "    os.makedirs(train_masks_path, exist_ok=True)\n",
    "    os.makedirs(val_images_path, exist_ok=True)\n",
    "    os.makedirs(val_masks_path, exist_ok=True)\n",
    "\n",
    "    # Get a list of all images and masks\n",
    "    image_files = sorted(os.listdir(images_path))\n",
    "    mask_files = sorted(os.listdir(masks_path))\n",
    "\n",
    "    # Ensure images and masks are paired correctly (assuming names match exactly)\n",
    "    assert len(image_files) == len(mask_files), \"The number of images and masks should be the same.\"\n",
    "    image_mask_pairs = [(img, msk) for img, msk in zip(image_files, mask_files) if img.split('.')[0] == msk.split('.')[0]]\n",
    "\n",
    "    # Limit the number of images if num_images is specified\n",
    "    if num_images is not None:\n",
    "        # Randomly shuffle the image-mask pairs and select the specified number of images\n",
    "        random.shuffle(image_mask_pairs)\n",
    "        image_mask_pairs = image_mask_pairs[:num_images]\n",
    "\n",
    "    # Split the dataset\n",
    "    train_pairs, val_pairs = train_test_split(image_mask_pairs, test_size=split_ratio, random_state=random_seed)\n",
    "\n",
    "    # Function to copy files\n",
    "    def copy_files(pairs, src_img_folder, src_mask_folder, dst_img_folder, dst_mask_folder):\n",
    "        for img_file, mask_file in tqdm.tqdm(pairs):\n",
    "            # Copy the image\n",
    "            shutil.copy(os.path.join(src_img_folder, img_file), os.path.join(dst_img_folder, img_file))\n",
    "            # Copy the corresponding mask\n",
    "            shutil.copy(os.path.join(src_mask_folder, mask_file), os.path.join(dst_mask_folder, mask_file))\n",
    "\n",
    "    # Copy the train files\n",
    "    copy_files(train_pairs, images_path, masks_path, train_images_path, train_masks_path)\n",
    "\n",
    "    # Copy the validation files\n",
    "    copy_files(val_pairs, images_path, masks_path, val_images_path, val_masks_path)\n",
    "\n",
    "    print(\"Dataset split completed!\")\n"
   ]
  },
  {
   "cell_type": "code",
   "execution_count": 8,
   "id": "1cdfc7a1-36a1-4652-9b7c-a8772a236f30",
   "metadata": {},
   "outputs": [
    {
     "name": "stderr",
     "output_type": "stream",
     "text": [
      "100%|█████████████████████████████████████████████████████████████████████████████| 2400/2400 [00:07<00:00, 342.74it/s]\n",
      "100%|████████████████████████████████████████████████████████████████████████████████| 600/600 [00:20<00:00, 29.43it/s]"
     ]
    },
    {
     "name": "stdout",
     "output_type": "stream",
     "text": [
      "Dataset split completed!\n"
     ]
    },
    {
     "name": "stderr",
     "output_type": "stream",
     "text": [
      "\n"
     ]
    }
   ],
   "source": [
    "# ham10k\n",
    "split_dataset(\n",
    "    images_path='./ham10k/images',\n",
    "    masks_path='./ham10k/masks',\n",
    "    train_images_path='./ham10k/train/images',\n",
    "    train_masks_path='./ham10k/train/masks',\n",
    "    val_images_path='./ham10k/val/images',\n",
    "    val_masks_path='./ham10k/val/masks',\n",
    "    split_ratio=0.2,  # 80% train, 20% val\n",
    "    random_seed=42,\n",
    "    num_images=3000\n",
    ")"
   ]
  },
  {
   "cell_type": "code",
   "execution_count": 3,
   "id": "536a0b12-fd56-4826-86f5-cd2edf1634da",
   "metadata": {},
   "outputs": [
    {
     "name": "stderr",
     "output_type": "stream",
     "text": [
      "100%|█████████████████████████████████████████████████████████████████████████████| 1600/1600 [00:04<00:00, 391.96it/s]\n",
      "100%|███████████████████████████████████████████████████████████████████████████████| 400/400 [00:01<00:00, 354.30it/s]"
     ]
    },
    {
     "name": "stdout",
     "output_type": "stream",
     "text": [
      "Dataset split completed!\n"
     ]
    },
    {
     "name": "stderr",
     "output_type": "stream",
     "text": [
      "\n"
     ]
    }
   ],
   "source": [
    "# covid-lls\n",
    "split_dataset(\n",
    "    images_path='./covid-lls/images',\n",
    "    masks_path='./covid-lls/masks',\n",
    "    train_images_path='./covid-lls/train/images',\n",
    "    train_masks_path='./covid-lls/train/masks',\n",
    "    val_images_path='./covid-lls/val/images',\n",
    "    val_masks_path='./covid-lls/val/masks',\n",
    "    split_ratio=0.2,  # 80% train, 20% val\n",
    "    random_seed=42,\n",
    "    num_images=2000\n",
    ")"
   ]
  },
  {
   "cell_type": "code",
   "execution_count": 4,
   "id": "81cfd2e0-6f67-4b30-ae0c-0f8c74b62027",
   "metadata": {},
   "outputs": [
    {
     "name": "stderr",
     "output_type": "stream",
     "text": [
      "100%|█████████████████████████████████████████████████████████████████████████████| 1600/1600 [00:06<00:00, 260.86it/s]\n",
      "100%|███████████████████████████████████████████████████████████████████████████████| 400/400 [00:01<00:00, 260.57it/s]"
     ]
    },
    {
     "name": "stdout",
     "output_type": "stream",
     "text": [
      "Dataset split completed!\n"
     ]
    },
    {
     "name": "stderr",
     "output_type": "stream",
     "text": [
      "\n"
     ]
    }
   ],
   "source": [
    "# duts\n",
    "split_dataset(\n",
    "    images_path='./duts/images',\n",
    "    masks_path='./duts/masks',\n",
    "    train_images_path='./duts/train/images',\n",
    "    train_masks_path='./duts/train/masks',\n",
    "    val_images_path='./duts/val/images',\n",
    "    val_masks_path='./duts/val/masks',\n",
    "    split_ratio=0.2,  # 80% train, 20% val\n",
    "    random_seed=42,\n",
    "    num_images=2000\n",
    ")"
   ]
  },
  {
   "cell_type": "code",
   "execution_count": 6,
   "id": "1010494f-055a-40c3-b06d-b7b9a535e77c",
   "metadata": {},
   "outputs": [
    {
     "name": "stderr",
     "output_type": "stream",
     "text": [
      "100%|██████████████████████████████████████████████████████████████████████████████| 1600/1600 [00:38<00:00, 41.33it/s]\n",
      "100%|████████████████████████████████████████████████████████████████████████████████| 400/400 [00:10<00:00, 39.77it/s]"
     ]
    },
    {
     "name": "stdout",
     "output_type": "stream",
     "text": [
      "Dataset split completed!\n"
     ]
    },
    {
     "name": "stderr",
     "output_type": "stream",
     "text": [
      "\n"
     ]
    }
   ],
   "source": [
    "# p3m\n",
    "split_dataset(\n",
    "    images_path='./p3m/images',\n",
    "    masks_path='./p3m/masks',\n",
    "    train_images_path='./p3m/train/images',\n",
    "    train_masks_path='./p3m/train/masks',\n",
    "    val_images_path='./p3m/val/images',\n",
    "    val_masks_path='./p3m/val/masks',\n",
    "    split_ratio=0.2,  # 80% train, 20% val\n",
    "    random_seed=42,\n",
    "    num_images=2000\n",
    ")"
   ]
  },
  {
   "cell_type": "code",
   "execution_count": 4,
   "id": "98bade21-29f2-49d7-9dc6-32a08fdffb3f",
   "metadata": {},
   "outputs": [
    {
     "name": "stderr",
     "output_type": "stream",
     "text": [
      "100%|█████████████████████████████████████████████████████████████████████████████| 1600/1600 [00:05<00:00, 279.69it/s]\n",
      "100%|███████████████████████████████████████████████████████████████████████████████| 400/400 [00:01<00:00, 262.91it/s]"
     ]
    },
    {
     "name": "stdout",
     "output_type": "stream",
     "text": [
      "Dataset split completed!\n"
     ]
    },
    {
     "name": "stderr",
     "output_type": "stream",
     "text": [
      "\n"
     ]
    }
   ],
   "source": [
    "# p3m\n",
    "split_dataset(\n",
    "    images_path='./dut-omron/images',\n",
    "    masks_path='./dut-omron/masks',\n",
    "    train_images_path='./dut-omron/train/images',\n",
    "    train_masks_path='./dut-omron/train/masks',\n",
    "    val_images_path='./dut-omron/val/images',\n",
    "    val_masks_path='./dut-omron/val/masks',\n",
    "    split_ratio=0.2,  # 80% train, 20% val\n",
    "    random_seed=42,\n",
    "    num_images=2000\n",
    ")"
   ]
  }
 ],
 "metadata": {
  "kernelspec": {
   "display_name": "Python 3 (ipykernel)",
   "language": "python",
   "name": "python3"
  },
  "language_info": {
   "codemirror_mode": {
    "name": "ipython",
    "version": 3
   },
   "file_extension": ".py",
   "mimetype": "text/x-python",
   "name": "python",
   "nbconvert_exporter": "python",
   "pygments_lexer": "ipython3",
   "version": "3.9.19"
  }
 },
 "nbformat": 4,
 "nbformat_minor": 5
}
