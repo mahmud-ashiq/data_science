{
  "nbformat": 4,
  "nbformat_minor": 0,
  "metadata": {
    "colab": {
      "provenance": []
    },
    "kernelspec": {
      "name": "python3",
      "display_name": "Python 3"
    },
    "language_info": {
      "name": "python"
    }
  },
  "cells": [
    {
      "cell_type": "markdown",
      "source": [
        "# Data Read & Exploration"
      ],
      "metadata": {
        "id": "l2FcxlJCmOYM"
      }
    },
    {
      "cell_type": "code",
      "source": [
        "import pandas as pd\n",
        "df = pd.read_csv(\"./cafe_sales.csv\")\n",
        "df.head(10)"
      ],
      "metadata": {
        "colab": {
          "base_uri": "https://localhost:8080/",
          "height": 363
        },
        "id": "_FUmG8H4ZraS",
        "outputId": "31b55f5a-2b0b-48ed-e6f6-f16289cc7cdd"
      },
      "execution_count": 1,
      "outputs": [
        {
          "output_type": "execute_result",
          "data": {
            "text/plain": [
              "  Transaction ID      Item Quantity Price Per Unit Total Spent  \\\n",
              "0    TXN_1961373    Coffee        2            2.0         4.0   \n",
              "1    TXN_4977031      Cake        4            3.0        12.0   \n",
              "2    TXN_4271903    Cookie        4            1.0       ERROR   \n",
              "3    TXN_7034554     Salad        2            5.0        10.0   \n",
              "4    TXN_3160411    Coffee        2            2.0         4.0   \n",
              "5    TXN_2602893  Smoothie        5            4.0        20.0   \n",
              "6    TXN_4433211   UNKNOWN        3            3.0         9.0   \n",
              "7    TXN_6699534  Sandwich        4            4.0        16.0   \n",
              "8    TXN_4717867       NaN        5            3.0        15.0   \n",
              "9    TXN_2064365  Sandwich        5            4.0        20.0   \n",
              "\n",
              "   Payment Method  Location Transaction Date  \n",
              "0     Credit Card  Takeaway       2023-09-08  \n",
              "1            Cash  In-store       2023-05-16  \n",
              "2     Credit Card  In-store       2023-07-19  \n",
              "3         UNKNOWN   UNKNOWN       2023-04-27  \n",
              "4  Digital Wallet  In-store       2023-06-11  \n",
              "5     Credit Card       NaN       2023-03-31  \n",
              "6           ERROR  Takeaway       2023-10-06  \n",
              "7            Cash   UNKNOWN       2023-10-28  \n",
              "8             NaN  Takeaway       2023-07-28  \n",
              "9             NaN  In-store       2023-12-31  "
            ],
            "text/html": [
              "<div>\n",
              "<style scoped>\n",
              "    .dataframe tbody tr th:only-of-type {\n",
              "        vertical-align: middle;\n",
              "    }\n",
              "\n",
              "    .dataframe tbody tr th {\n",
              "        vertical-align: top;\n",
              "    }\n",
              "\n",
              "    .dataframe thead th {\n",
              "        text-align: right;\n",
              "    }\n",
              "</style>\n",
              "<table border=\"1\" class=\"dataframe\">\n",
              "  <thead>\n",
              "    <tr style=\"text-align: right;\">\n",
              "      <th></th>\n",
              "      <th>Transaction ID</th>\n",
              "      <th>Item</th>\n",
              "      <th>Quantity</th>\n",
              "      <th>Price Per Unit</th>\n",
              "      <th>Total Spent</th>\n",
              "      <th>Payment Method</th>\n",
              "      <th>Location</th>\n",
              "      <th>Transaction Date</th>\n",
              "    </tr>\n",
              "  </thead>\n",
              "  <tbody>\n",
              "    <tr>\n",
              "      <th>0</th>\n",
              "      <td>TXN_1961373</td>\n",
              "      <td>Coffee</td>\n",
              "      <td>2</td>\n",
              "      <td>2.0</td>\n",
              "      <td>4.0</td>\n",
              "      <td>Credit Card</td>\n",
              "      <td>Takeaway</td>\n",
              "      <td>2023-09-08</td>\n",
              "    </tr>\n",
              "    <tr>\n",
              "      <th>1</th>\n",
              "      <td>TXN_4977031</td>\n",
              "      <td>Cake</td>\n",
              "      <td>4</td>\n",
              "      <td>3.0</td>\n",
              "      <td>12.0</td>\n",
              "      <td>Cash</td>\n",
              "      <td>In-store</td>\n",
              "      <td>2023-05-16</td>\n",
              "    </tr>\n",
              "    <tr>\n",
              "      <th>2</th>\n",
              "      <td>TXN_4271903</td>\n",
              "      <td>Cookie</td>\n",
              "      <td>4</td>\n",
              "      <td>1.0</td>\n",
              "      <td>ERROR</td>\n",
              "      <td>Credit Card</td>\n",
              "      <td>In-store</td>\n",
              "      <td>2023-07-19</td>\n",
              "    </tr>\n",
              "    <tr>\n",
              "      <th>3</th>\n",
              "      <td>TXN_7034554</td>\n",
              "      <td>Salad</td>\n",
              "      <td>2</td>\n",
              "      <td>5.0</td>\n",
              "      <td>10.0</td>\n",
              "      <td>UNKNOWN</td>\n",
              "      <td>UNKNOWN</td>\n",
              "      <td>2023-04-27</td>\n",
              "    </tr>\n",
              "    <tr>\n",
              "      <th>4</th>\n",
              "      <td>TXN_3160411</td>\n",
              "      <td>Coffee</td>\n",
              "      <td>2</td>\n",
              "      <td>2.0</td>\n",
              "      <td>4.0</td>\n",
              "      <td>Digital Wallet</td>\n",
              "      <td>In-store</td>\n",
              "      <td>2023-06-11</td>\n",
              "    </tr>\n",
              "    <tr>\n",
              "      <th>5</th>\n",
              "      <td>TXN_2602893</td>\n",
              "      <td>Smoothie</td>\n",
              "      <td>5</td>\n",
              "      <td>4.0</td>\n",
              "      <td>20.0</td>\n",
              "      <td>Credit Card</td>\n",
              "      <td>NaN</td>\n",
              "      <td>2023-03-31</td>\n",
              "    </tr>\n",
              "    <tr>\n",
              "      <th>6</th>\n",
              "      <td>TXN_4433211</td>\n",
              "      <td>UNKNOWN</td>\n",
              "      <td>3</td>\n",
              "      <td>3.0</td>\n",
              "      <td>9.0</td>\n",
              "      <td>ERROR</td>\n",
              "      <td>Takeaway</td>\n",
              "      <td>2023-10-06</td>\n",
              "    </tr>\n",
              "    <tr>\n",
              "      <th>7</th>\n",
              "      <td>TXN_6699534</td>\n",
              "      <td>Sandwich</td>\n",
              "      <td>4</td>\n",
              "      <td>4.0</td>\n",
              "      <td>16.0</td>\n",
              "      <td>Cash</td>\n",
              "      <td>UNKNOWN</td>\n",
              "      <td>2023-10-28</td>\n",
              "    </tr>\n",
              "    <tr>\n",
              "      <th>8</th>\n",
              "      <td>TXN_4717867</td>\n",
              "      <td>NaN</td>\n",
              "      <td>5</td>\n",
              "      <td>3.0</td>\n",
              "      <td>15.0</td>\n",
              "      <td>NaN</td>\n",
              "      <td>Takeaway</td>\n",
              "      <td>2023-07-28</td>\n",
              "    </tr>\n",
              "    <tr>\n",
              "      <th>9</th>\n",
              "      <td>TXN_2064365</td>\n",
              "      <td>Sandwich</td>\n",
              "      <td>5</td>\n",
              "      <td>4.0</td>\n",
              "      <td>20.0</td>\n",
              "      <td>NaN</td>\n",
              "      <td>In-store</td>\n",
              "      <td>2023-12-31</td>\n",
              "    </tr>\n",
              "  </tbody>\n",
              "</table>\n",
              "</div>"
            ]
          },
          "metadata": {},
          "execution_count": 1
        }
      ]
    },
    {
      "cell_type": "code",
      "source": [
        "df.info()"
      ],
      "metadata": {
        "colab": {
          "base_uri": "https://localhost:8080/"
        },
        "id": "6ClrM-UpamJw",
        "outputId": "567d3c81-589b-4604-f1f7-2b30e7115b62"
      },
      "execution_count": 2,
      "outputs": [
        {
          "output_type": "stream",
          "name": "stdout",
          "text": [
            "<class 'pandas.core.frame.DataFrame'>\n",
            "RangeIndex: 10000 entries, 0 to 9999\n",
            "Data columns (total 8 columns):\n",
            " #   Column            Non-Null Count  Dtype \n",
            "---  ------            --------------  ----- \n",
            " 0   Transaction ID    10000 non-null  object\n",
            " 1   Item              9667 non-null   object\n",
            " 2   Quantity          9862 non-null   object\n",
            " 3   Price Per Unit    9821 non-null   object\n",
            " 4   Total Spent       9827 non-null   object\n",
            " 5   Payment Method    7421 non-null   object\n",
            " 6   Location          6735 non-null   object\n",
            " 7   Transaction Date  9841 non-null   object\n",
            "dtypes: object(8)\n",
            "memory usage: 625.1+ KB\n"
          ]
        }
      ]
    },
    {
      "cell_type": "code",
      "source": [
        "df.isnull().sum()"
      ],
      "metadata": {
        "colab": {
          "base_uri": "https://localhost:8080/"
        },
        "id": "5GJvzxgTayhr",
        "outputId": "a33b1378-020e-4c6a-c9cd-c7fb53da8978"
      },
      "execution_count": 3,
      "outputs": [
        {
          "output_type": "execute_result",
          "data": {
            "text/plain": [
              "Transaction ID         0\n",
              "Item                 333\n",
              "Quantity             138\n",
              "Price Per Unit       179\n",
              "Total Spent          173\n",
              "Payment Method      2579\n",
              "Location            3265\n",
              "Transaction Date     159\n",
              "dtype: int64"
            ]
          },
          "metadata": {},
          "execution_count": 3
        }
      ]
    },
    {
      "cell_type": "markdown",
      "source": [
        "# Data Cleaning"
      ],
      "metadata": {
        "id": "oP2Y_66wmT6a"
      }
    },
    {
      "cell_type": "markdown",
      "source": [
        "**Dropped 'Transaction ID' column**"
      ],
      "metadata": {
        "id": "NQIvzjcamW9-"
      }
    },
    {
      "cell_type": "code",
      "source": [
        "df2 = df.drop('Transaction ID', axis=1)\n",
        "df2.head(5)"
      ],
      "metadata": {
        "colab": {
          "base_uri": "https://localhost:8080/",
          "height": 206
        },
        "id": "vhNsI9Dla5Nk",
        "outputId": "2a7b48b9-93f0-4daa-fa5a-e2a1617ec7fc"
      },
      "execution_count": 4,
      "outputs": [
        {
          "output_type": "execute_result",
          "data": {
            "text/plain": [
              "     Item Quantity Price Per Unit Total Spent  Payment Method  Location  \\\n",
              "0  Coffee        2            2.0         4.0     Credit Card  Takeaway   \n",
              "1    Cake        4            3.0        12.0            Cash  In-store   \n",
              "2  Cookie        4            1.0       ERROR     Credit Card  In-store   \n",
              "3   Salad        2            5.0        10.0         UNKNOWN   UNKNOWN   \n",
              "4  Coffee        2            2.0         4.0  Digital Wallet  In-store   \n",
              "\n",
              "  Transaction Date  \n",
              "0       2023-09-08  \n",
              "1       2023-05-16  \n",
              "2       2023-07-19  \n",
              "3       2023-04-27  \n",
              "4       2023-06-11  "
            ],
            "text/html": [
              "<div>\n",
              "<style scoped>\n",
              "    .dataframe tbody tr th:only-of-type {\n",
              "        vertical-align: middle;\n",
              "    }\n",
              "\n",
              "    .dataframe tbody tr th {\n",
              "        vertical-align: top;\n",
              "    }\n",
              "\n",
              "    .dataframe thead th {\n",
              "        text-align: right;\n",
              "    }\n",
              "</style>\n",
              "<table border=\"1\" class=\"dataframe\">\n",
              "  <thead>\n",
              "    <tr style=\"text-align: right;\">\n",
              "      <th></th>\n",
              "      <th>Item</th>\n",
              "      <th>Quantity</th>\n",
              "      <th>Price Per Unit</th>\n",
              "      <th>Total Spent</th>\n",
              "      <th>Payment Method</th>\n",
              "      <th>Location</th>\n",
              "      <th>Transaction Date</th>\n",
              "    </tr>\n",
              "  </thead>\n",
              "  <tbody>\n",
              "    <tr>\n",
              "      <th>0</th>\n",
              "      <td>Coffee</td>\n",
              "      <td>2</td>\n",
              "      <td>2.0</td>\n",
              "      <td>4.0</td>\n",
              "      <td>Credit Card</td>\n",
              "      <td>Takeaway</td>\n",
              "      <td>2023-09-08</td>\n",
              "    </tr>\n",
              "    <tr>\n",
              "      <th>1</th>\n",
              "      <td>Cake</td>\n",
              "      <td>4</td>\n",
              "      <td>3.0</td>\n",
              "      <td>12.0</td>\n",
              "      <td>Cash</td>\n",
              "      <td>In-store</td>\n",
              "      <td>2023-05-16</td>\n",
              "    </tr>\n",
              "    <tr>\n",
              "      <th>2</th>\n",
              "      <td>Cookie</td>\n",
              "      <td>4</td>\n",
              "      <td>1.0</td>\n",
              "      <td>ERROR</td>\n",
              "      <td>Credit Card</td>\n",
              "      <td>In-store</td>\n",
              "      <td>2023-07-19</td>\n",
              "    </tr>\n",
              "    <tr>\n",
              "      <th>3</th>\n",
              "      <td>Salad</td>\n",
              "      <td>2</td>\n",
              "      <td>5.0</td>\n",
              "      <td>10.0</td>\n",
              "      <td>UNKNOWN</td>\n",
              "      <td>UNKNOWN</td>\n",
              "      <td>2023-04-27</td>\n",
              "    </tr>\n",
              "    <tr>\n",
              "      <th>4</th>\n",
              "      <td>Coffee</td>\n",
              "      <td>2</td>\n",
              "      <td>2.0</td>\n",
              "      <td>4.0</td>\n",
              "      <td>Digital Wallet</td>\n",
              "      <td>In-store</td>\n",
              "      <td>2023-06-11</td>\n",
              "    </tr>\n",
              "  </tbody>\n",
              "</table>\n",
              "</div>"
            ]
          },
          "metadata": {},
          "execution_count": 4
        }
      ]
    },
    {
      "cell_type": "markdown",
      "source": [
        "**Data types**"
      ],
      "metadata": {
        "id": "lHRvkEVWmpOL"
      }
    },
    {
      "cell_type": "code",
      "source": [
        "# object to categorical\n",
        "df2['Item'] = df2['Item'].astype('category')\n",
        "df2['Payment Method'] = df2['Payment Method'].astype('category')\n",
        "df2['Location'] = df2['Location'].astype('category')\n",
        "\n",
        "# object to numerical\n",
        "df2['Quantity'] = pd.to_numeric(df2['Quantity'], errors='coerce')\n",
        "df2['Price Per Unit'] = pd.to_numeric(df2['Price Per Unit'], errors='coerce')\n",
        "df2['Total Spent'] = pd.to_numeric(df2['Total Spent'], errors='coerce')\n",
        "\n",
        "# object to date\n",
        "df2['Transaction Date'] = pd.to_datetime(df2['Transaction Date'], format='mixed', errors='coerce').dt.date\n",
        "\n",
        "df2.info()"
      ],
      "metadata": {
        "colab": {
          "base_uri": "https://localhost:8080/"
        },
        "id": "NEfl3-SUDlFc",
        "outputId": "b64e451f-9e91-40f6-b249-dbe2eb8a0bd7"
      },
      "execution_count": 5,
      "outputs": [
        {
          "output_type": "stream",
          "name": "stdout",
          "text": [
            "<class 'pandas.core.frame.DataFrame'>\n",
            "RangeIndex: 10000 entries, 0 to 9999\n",
            "Data columns (total 7 columns):\n",
            " #   Column            Non-Null Count  Dtype   \n",
            "---  ------            --------------  -----   \n",
            " 0   Item              9667 non-null   category\n",
            " 1   Quantity          9521 non-null   float64 \n",
            " 2   Price Per Unit    9467 non-null   float64 \n",
            " 3   Total Spent       9498 non-null   float64 \n",
            " 4   Payment Method    7421 non-null   category\n",
            " 5   Location          6735 non-null   category\n",
            " 6   Transaction Date  9540 non-null   object  \n",
            "dtypes: category(3), float64(3), object(1)\n",
            "memory usage: 342.7+ KB\n"
          ]
        }
      ]
    },
    {
      "cell_type": "markdown",
      "source": [
        "**Replace and fill null**"
      ],
      "metadata": {
        "id": "De6UQ0jCnGdj"
      }
    },
    {
      "cell_type": "code",
      "source": [
        "#replace \"ERROR\" with \"UNKNOWN\"\n",
        "df2 = df2.replace( 'ERROR', 'UNKNOWN')\n",
        "\n",
        "#replace \"UNKNOWN\" with NaN\n",
        "columns = ['Item', 'Price Per Unit', 'Total Spent', 'Quantity']\n",
        "df2[columns] = df2[columns].replace('UNKNOWN', pd.NA)\n",
        "\n",
        "# fill null values with \"UNKNOWN\"\n",
        "df2['Payment Method'] = df2['Payment Method'].fillna(\"UNKNOWN\")\n",
        "df2['Location'] = df2['Location'].fillna(\"UNKNOWN\")\n",
        "df2['Transaction Date'] = df2['Transaction Date'].fillna(\"UNKNOWN\")\n",
        "\n",
        "df2.isnull().sum()"
      ],
      "metadata": {
        "colab": {
          "base_uri": "https://localhost:8080/"
        },
        "id": "rj7ikBpxR5S9",
        "outputId": "dbacd079-481e-48f1-a047-4cf33369179d"
      },
      "execution_count": 6,
      "outputs": [
        {
          "output_type": "stream",
          "name": "stderr",
          "text": [
            "C:\\Users\\ashiq\\AppData\\Local\\Temp\\ipykernel_15324\\1174652641.py:2: FutureWarning: The behavior of Series.replace (and DataFrame.replace) with CategoricalDtype is deprecated. In a future version, replace will only be used for cases that preserve the categories. To change the categories, use ser.cat.rename_categories instead.\n",
            "  df2 = df2.replace( 'ERROR', 'UNKNOWN')\n",
            "C:\\Users\\ashiq\\AppData\\Local\\Temp\\ipykernel_15324\\1174652641.py:6: FutureWarning: The behavior of Series.replace (and DataFrame.replace) with CategoricalDtype is deprecated. In a future version, replace will only be used for cases that preserve the categories. To change the categories, use ser.cat.rename_categories instead.\n",
            "  df2[columns] = df2[columns].replace('UNKNOWN', pd.NA)\n"
          ]
        },
        {
          "output_type": "execute_result",
          "data": {
            "text/plain": [
              "Item                969\n",
              "Quantity            479\n",
              "Price Per Unit      533\n",
              "Total Spent         502\n",
              "Payment Method        0\n",
              "Location              0\n",
              "Transaction Date      0\n",
              "dtype: int64"
            ]
          },
          "metadata": {},
          "execution_count": 6
        }
      ]
    },
    {
      "cell_type": "markdown",
      "source": [
        "**Menu items with price**"
      ],
      "metadata": {
        "id": "DFlRnIuOpSNS"
      }
    },
    {
      "cell_type": "code",
      "source": [
        "menu_price = {\n",
        "    'Coffee': 2.0,\n",
        "    'Tea': 1.5,\n",
        "    'Sandwich': 4.0,\n",
        "    'Salad': 5.0,\n",
        "    'Cake': 3.0,\n",
        "    'Cookie': 1.0,\n",
        "    'Smoothie': 4.0,\n",
        "    'Juice': 3.0\n",
        "}\n",
        "\n",
        "price_to_item = {v: k for k, v in menu_price.items()} # price_to_item = {2.0 : \"Coffee\", ...}"
      ],
      "metadata": {
        "id": "PekO3-Y4N6rx"
      },
      "execution_count": 7,
      "outputs": []
    },
    {
      "cell_type": "markdown",
      "source": [
        "**Fill numerical values**"
      ],
      "metadata": {
        "id": "qIx5FFScqO5G"
      }
    },
    {
      "cell_type": "code",
      "source": [
        "# filling \"Items\" by extracting menu_price with \"Price Per Unit\"\n",
        "df2['Item'] = df2['Item'].fillna(df2['Price Per Unit'].map(price_to_item))\n",
        "\n",
        "# filling \"Price Per Unit\" by extracting price_to_item with\"Items\"\n",
        "df2['Price Per Unit'] = df2['Price Per Unit'].fillna(df2['Item'].map(menu_price))\n",
        "\n",
        "# Price per uni = total spent / quantity\n",
        "df2['Price Per Unit'] = df2['Price Per Unit'].fillna(df2['Total Spent'] // df2['Quantity'])\n",
        "\n",
        "# again filling Items\n",
        "df2['Item'] = df2['Item'].fillna(df2['Price Per Unit'].map(price_to_item))\n",
        "\n",
        "# quantity = total spent / price per unit\n",
        "df2['Quantity'] = df2['Quantity'].fillna(df2['Total Spent'] // df2['Price Per Unit'])\n",
        "\n",
        "# total spent = quantity * price per unit\n",
        "df2['Total Spent'] = df2['Total Spent'].fillna(df2['Quantity'] * df2['Price Per Unit'])"
      ],
      "metadata": {
        "id": "ZHgraZu0O1gQ"
      },
      "execution_count": 8,
      "outputs": []
    },
    {
      "cell_type": "markdown",
      "source": [
        "**Drop remaining null rows**"
      ],
      "metadata": {
        "id": "asvmaJJWrs9j"
      }
    },
    {
      "cell_type": "code",
      "source": [
        "print(\"Before dropping null rows\\n\", df2.isnull().sum())\n",
        "df2.dropna(inplace=True)\n",
        "print(\"\\nAfter dropping null rows\\n\", df2.isnull().sum())"
      ],
      "metadata": {
        "colab": {
          "base_uri": "https://localhost:8080/"
        },
        "id": "wsYVB7eHPOYJ",
        "outputId": "8d7250ec-9e81-4f19-dd0c-e61bb1738526"
      },
      "execution_count": 9,
      "outputs": [
        {
          "output_type": "stream",
          "name": "stdout",
          "text": [
            "Before dropping null rows\n",
            " Item                 6\n",
            "Quantity            23\n",
            "Price Per Unit       6\n",
            "Total Spent         23\n",
            "Payment Method       0\n",
            "Location             0\n",
            "Transaction Date     0\n",
            "dtype: int64\n",
            "\n",
            "After dropping null rows\n",
            " Item                0\n",
            "Quantity            0\n",
            "Price Per Unit      0\n",
            "Total Spent         0\n",
            "Payment Method      0\n",
            "Location            0\n",
            "Transaction Date    0\n",
            "dtype: int64\n"
          ]
        }
      ]
    },
    {
      "cell_type": "markdown",
      "source": [
        "# Saving to CSV"
      ],
      "metadata": {
        "id": "F6gm6Zclr6vW"
      }
    },
    {
      "cell_type": "code",
      "source": [
        "df2.to_csv('processed_data.csv', index=False)"
      ],
      "metadata": {
        "id": "Vr-i7acrT1_v"
      },
      "execution_count": 10,
      "outputs": []
    }
  ]
}