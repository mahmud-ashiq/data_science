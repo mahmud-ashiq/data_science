{
 "cells": [
  {
   "cell_type": "markdown",
   "id": "508a0d7d-3596-4bdc-9052-a6263439687c",
   "metadata": {},
   "source": [
    "## This project is to extract hyperlinks from Movie names from Excel sheet. Then it will scrap Genre of that movie from IMDB website."
   ]
  },
  {
   "cell_type": "code",
   "execution_count": null,
   "id": "75d090cb-6b64-42a1-8e00-ea95dc6d5bd9",
   "metadata": {},
   "outputs": [],
   "source": [
    "import os\n",
    "import pandas as pd\n",
    "from tqdm import tqdm\n",
    "from openpyxl import load_workbook\n",
    "from bs4 import BeautifulSoup\n",
    "from selenium import webdriver\n",
    "from selenium.webdriver.common.by import By\n",
    "from selenium.webdriver.support.ui import WebDriverWait\n",
    "from selenium.webdriver.support import expected_conditions as EC"
   ]
  },
  {
   "cell_type": "code",
   "execution_count": 3,
   "id": "526b643e-0d3e-4faa-998c-b865caf6afd5",
   "metadata": {},
   "outputs": [],
   "source": [
    "def loadFile(file_path):\n",
    "    # Load the workbook and sheet\n",
    "    wb = load_workbook(file_path)\n",
    "    ws = wb.active\n",
    "    \n",
    "    # Lists to collect data\n",
    "    names = []\n",
    "    years = []\n",
    "    hyperlinks = []\n",
    "    \n",
    "    # Read all rows in a specific column (column A)\n",
    "    for row in ws.iter_rows(min_row=2, max_col=2): \n",
    "        title_cell = row[0]  # Column A\n",
    "        year_cell = row[1]   # Column B\n",
    "        \n",
    "        names.append(title_cell.value)\n",
    "        years.append(year_cell.value)\n",
    "        \n",
    "        if title_cell.hyperlink:\n",
    "            hyperlinks.append(title_cell.hyperlink.target)\n",
    "        else:\n",
    "            hyperlinks.append(None)\n",
    "    \n",
    "    df = pd.DataFrame({\n",
    "        \"Name\": names,\n",
    "        \"Year\": years,\n",
    "        \"Link\": hyperlinks\n",
    "        \n",
    "    })\n",
    "    print(df.head(5))\n",
    "    \n",
    "    return df"
   ]
  },
  {
   "cell_type": "code",
   "execution_count": 4,
   "id": "165f5701-4817-4351-a3bc-9da6244b7e28",
   "metadata": {},
   "outputs": [
    {
     "name": "stdout",
     "output_type": "stream",
     "text": [
      "No checkpoint file found. Starting from scratch.\n",
      "                                 Name  Year  \\\n",
      "0                   The Great Escape   1963   \n",
      "1                             Patton   1970   \n",
      "2  Star Wars Episode IV - A New Hope   1977   \n",
      "3                  Empire of the Sun   1987   \n",
      "4                              Alien   1979   \n",
      "\n",
      "                                    Link  \n",
      "0  https://www.imdb.com/title/tt0057115/  \n",
      "1  https://www.imdb.com/title/tt0066206/  \n",
      "2  https://www.imdb.com/title/tt0076759/  \n",
      "3  https://www.imdb.com/title/tt0092965/  \n",
      "4  https://www.imdb.com/title/tt0078748/  \n"
     ]
    },
    {
     "name": "stderr",
     "output_type": "stream",
     "text": [
      "Scraping IMDb:  10%|██████▎                                                        | 100/995 [06:50<1:00:53,  4.08s/it]"
     ]
    },
    {
     "name": "stdout",
     "output_type": "stream",
     "text": [
      "\n",
      "--- Checkpoint: Saving progress to imdb_genres_checkpoint.csv at item 100 ---\n"
     ]
    },
    {
     "name": "stderr",
     "output_type": "stream",
     "text": [
      "Scraping IMDb:  20%|█████████████                                                    | 200/995 [13:56<48:51,  3.69s/it]"
     ]
    },
    {
     "name": "stdout",
     "output_type": "stream",
     "text": [
      "\n",
      "--- Checkpoint: Saving progress to imdb_genres_checkpoint.csv at item 200 ---\n"
     ]
    },
    {
     "name": "stderr",
     "output_type": "stream",
     "text": [
      "Scraping IMDb:  30%|███████████████████▌                                             | 300/995 [20:48<45:15,  3.91s/it]"
     ]
    },
    {
     "name": "stdout",
     "output_type": "stream",
     "text": [
      "\n",
      "--- Checkpoint: Saving progress to imdb_genres_checkpoint.csv at item 300 ---\n"
     ]
    },
    {
     "name": "stderr",
     "output_type": "stream",
     "text": [
      "Scraping IMDb:  40%|██████████████████████████▏                                      | 400/995 [27:48<42:00,  4.24s/it]"
     ]
    },
    {
     "name": "stdout",
     "output_type": "stream",
     "text": [
      "\n",
      "--- Checkpoint: Saving progress to imdb_genres_checkpoint.csv at item 400 ---\n"
     ]
    },
    {
     "name": "stderr",
     "output_type": "stream",
     "text": [
      "Scraping IMDb:  50%|████████████████████████████████▋                                | 500/995 [34:55<34:03,  4.13s/it]"
     ]
    },
    {
     "name": "stdout",
     "output_type": "stream",
     "text": [
      "\n",
      "--- Checkpoint: Saving progress to imdb_genres_checkpoint.csv at item 500 ---\n"
     ]
    },
    {
     "name": "stderr",
     "output_type": "stream",
     "text": [
      "Scraping IMDb:  60%|███████████████████████████████████████▏                         | 600/995 [41:25<24:26,  3.71s/it]"
     ]
    },
    {
     "name": "stdout",
     "output_type": "stream",
     "text": [
      "\n",
      "--- Checkpoint: Saving progress to imdb_genres_checkpoint.csv at item 600 ---\n"
     ]
    },
    {
     "name": "stderr",
     "output_type": "stream",
     "text": [
      "Scraping IMDb:  70%|█████████████████████████████████████████████▋                   | 700/995 [47:18<17:57,  3.65s/it]"
     ]
    },
    {
     "name": "stdout",
     "output_type": "stream",
     "text": [
      "\n",
      "--- Checkpoint: Saving progress to imdb_genres_checkpoint.csv at item 700 ---\n"
     ]
    },
    {
     "name": "stderr",
     "output_type": "stream",
     "text": [
      "Scraping IMDb:  80%|████████████████████████████████████████████████████▎            | 800/995 [53:27<12:18,  3.79s/it]"
     ]
    },
    {
     "name": "stdout",
     "output_type": "stream",
     "text": [
      "\n",
      "--- Checkpoint: Saving progress to imdb_genres_checkpoint.csv at item 800 ---\n"
     ]
    },
    {
     "name": "stderr",
     "output_type": "stream",
     "text": [
      "Scraping IMDb:  90%|██████████████████████████████████████████████████████████▊      | 900/995 [59:32<05:27,  3.45s/it]"
     ]
    },
    {
     "name": "stdout",
     "output_type": "stream",
     "text": [
      "\n",
      "--- Checkpoint: Saving progress to imdb_genres_checkpoint.csv at item 900 ---\n"
     ]
    },
    {
     "name": "stderr",
     "output_type": "stream",
     "text": [
      "Scraping IMDb: 100%|███████████████████████████████████████████████████████████████| 995/995 [1:15:03<00:00,  4.53s/it]\n"
     ]
    },
    {
     "name": "stdout",
     "output_type": "stream",
     "text": [
      "\n",
      "--- Scraping finished or interrupted. Closing driver and saving final data. ---\n",
      "Final data saved to imdb_genres_complete.csv\n",
      "\n",
      "--- Final DataFrame ---\n",
      "                                   Name  Year  \\\n",
      "0                     The Great Escape   1963   \n",
      "1                               Patton   1970   \n",
      "2    Star Wars Episode IV - A New Hope   1977   \n",
      "3                    Empire of the Sun   1987   \n",
      "4                                Alien   1979   \n",
      "..                                  ...   ...   \n",
      "990               Mufasa: The Lion King  2024   \n",
      "991                              Nr. 24  2024   \n",
      "992                         The Amateur  2025   \n",
      "993                         Logan Lucky  2017   \n",
      "994                             Heretic  2024   \n",
      "\n",
      "                                       Link  \\\n",
      "0     https://www.imdb.com/title/tt0057115/   \n",
      "1     https://www.imdb.com/title/tt0066206/   \n",
      "2     https://www.imdb.com/title/tt0076759/   \n",
      "3     https://www.imdb.com/title/tt0092965/   \n",
      "4     https://www.imdb.com/title/tt0078748/   \n",
      "..                                      ...   \n",
      "990  https://www.imdb.com/title/tt13186482/   \n",
      "991  https://www.imdb.com/title/tt23782584/   \n",
      "992   https://www.imdb.com/title/tt0899043/   \n",
      "993   https://www.imdb.com/title/tt5439796/   \n",
      "994  https://www.imdb.com/title/tt28015403/   \n",
      "\n",
      "                                                Genres  \n",
      "0                      GenresAdventureDramaThrillerWar  \n",
      "1                              GenresBiographyDramaWar  \n",
      "2                   GenresActionAdventureFantasySci-Fi  \n",
      "3                                       GenresDramaWar  \n",
      "4                                   GenresHorrorSci-Fi  \n",
      "..                                                 ...  \n",
      "990  Error: Message: \\nStacktrace:\\n\\tGetHandleVeri...  \n",
      "991  Error: Message: \\nStacktrace:\\n\\tGetHandleVeri...  \n",
      "992  Error: Message: \\nStacktrace:\\n\\tGetHandleVeri...  \n",
      "993  Error: Message: \\nStacktrace:\\n\\tGetHandleVeri...  \n",
      "994  Error: Message: \\nStacktrace:\\n\\tGetHandleVeri...  \n",
      "\n",
      "[995 rows x 4 columns]\n"
     ]
    }
   ],
   "source": [
    "# --- Configuration ---\n",
    "CHECKPOINT_FILE = 'imdb_genres_checkpoint.csv'\n",
    "FINAL_FILE = 'imdb_genres_complete.csv'\n",
    "CHECKPOINT_FREQUENCY = 100 #\n",
    "\n",
    "# --- Load Data and Prepare for Resuming ---\n",
    "# Check if a checkpoint file exists to resume from\n",
    "if os.path.exists(CHECKPOINT_FILE):\n",
    "    print(f\"Resuming from checkpoint file: {CHECKPOINT_FILE}\")\n",
    "    df = pd.read_csv(CHECKPOINT_FILE)\n",
    "else:\n",
    "    print(\"No checkpoint file found. Starting from scratch.\")\n",
    "    df= loadFile(\"Movies.xlsx\")\n",
    "\n",
    "    \n",
    "    # Add a 'Genres' column if it doesn't exist, filled with None\n",
    "    if 'Genres' not in df.columns:\n",
    "        df['Genres'] = None\n",
    "\n",
    "# Setup Chrome options\n",
    "options = webdriver.ChromeOptions()\n",
    "#options.add_argument('--headless') \n",
    "options.add_argument('--no-sandbox')\n",
    "options.add_argument('--disable-dev-shm-usage')\n",
    "options.add_argument('user-agent=Mozilla/5.0 (Windows NT 10.0; Win64; x64) AppleWebKit/537.36 (KHTML, like Gecko) Chrome/91.0.4472.124 Safari/537.36')\n",
    "\n",
    "driver = webdriver.Chrome(options=options)\n",
    "\n",
    "try:\n",
    "    for index, row in tqdm(df.iterrows(), total=df.shape[0], desc=\"Scraping IMDb\"):\n",
    "        # --- Resume Logic: Skip already scraped URLs ---\n",
    "        # If the 'Genres' column for this row already has a value, skip it.\n",
    "        if pd.notna(row['Genres']):\n",
    "            continue\n",
    "\n",
    "        try:\n",
    "            url = row['Link']\n",
    "            driver.get(url)\n",
    "            driver.execute_script(\"window.scrollTo(0, document.body.scrollHeight * 0.45);\")\n",
    "            WebDriverWait(driver, 15).until(\n",
    "                EC.presence_of_element_located((By.CSS_SELECTOR, 'section[data-testid=\"Storyline\"]'))\n",
    "                )\n",
    "            page_source = driver.page_source\n",
    "            soup = BeautifulSoup(page_source, 'lxml')\n",
    "            boxes = soup.find(\"li\", attrs={\"data-testid\": \"storyline-genres\"}, class_ = \"ipc-metadata-list__item ipc-metadata-list__item--align-end\")\n",
    "            df.loc[index, 'Genres'] = f'{boxes.text}'\n",
    "        except Exception as e:\n",
    "            df.loc[index, 'Genres'] = f'Error: {str(e)[:50]}'\n",
    "\n",
    "        # --- Checkpointing Logic ---\n",
    "        # The `+1` is because index starts at 0. We save on the 10th, 20th, etc. item.\n",
    "        if (index + 1) % CHECKPOINT_FREQUENCY == 0:\n",
    "            tqdm.write(f\"\\n--- Checkpoint: Saving progress to {CHECKPOINT_FILE} at item {index + 1} ---\")\n",
    "            df.to_csv(CHECKPOINT_FILE, index=False)\n",
    "\n",
    "finally:\n",
    "    # Quit the driver and save the final complete file\n",
    "    print(\"\\n--- Scraping finished or interrupted. Closing driver and saving final data. ---\")\n",
    "    driver.quit()\n",
    "    df.to_csv(FINAL_FILE, index=False)\n",
    "    print(f\"Final data saved to {FINAL_FILE}\")\n",
    "\n",
    "# Display the final result\n",
    "print(\"\\n--- Final DataFrame ---\")\n",
    "print(df)"
   ]
  },
  {
   "cell_type": "code",
   "execution_count": 5,
   "id": "9c81869f-f3d6-4a05-aba5-20329dd0801c",
   "metadata": {},
   "outputs": [
    {
     "data": {
      "text/html": [
       "<div>\n",
       "<style scoped>\n",
       "    .dataframe tbody tr th:only-of-type {\n",
       "        vertical-align: middle;\n",
       "    }\n",
       "\n",
       "    .dataframe tbody tr th {\n",
       "        vertical-align: top;\n",
       "    }\n",
       "\n",
       "    .dataframe thead th {\n",
       "        text-align: right;\n",
       "    }\n",
       "</style>\n",
       "<table border=\"1\" class=\"dataframe\">\n",
       "  <thead>\n",
       "    <tr style=\"text-align: right;\">\n",
       "      <th></th>\n",
       "      <th>Name</th>\n",
       "      <th>Year</th>\n",
       "      <th>Link</th>\n",
       "      <th>Genres</th>\n",
       "    </tr>\n",
       "  </thead>\n",
       "  <tbody>\n",
       "    <tr>\n",
       "      <th>0</th>\n",
       "      <td>The Great Escape</td>\n",
       "      <td>1963</td>\n",
       "      <td>https://www.imdb.com/title/tt0057115/</td>\n",
       "      <td>GenresAdventureDramaThrillerWar</td>\n",
       "    </tr>\n",
       "    <tr>\n",
       "      <th>1</th>\n",
       "      <td>Patton</td>\n",
       "      <td>1970</td>\n",
       "      <td>https://www.imdb.com/title/tt0066206/</td>\n",
       "      <td>GenresBiographyDramaWar</td>\n",
       "    </tr>\n",
       "    <tr>\n",
       "      <th>2</th>\n",
       "      <td>Star Wars Episode IV - A New Hope</td>\n",
       "      <td>1977</td>\n",
       "      <td>https://www.imdb.com/title/tt0076759/</td>\n",
       "      <td>GenresActionAdventureFantasySci-Fi</td>\n",
       "    </tr>\n",
       "    <tr>\n",
       "      <th>3</th>\n",
       "      <td>Empire of the Sun</td>\n",
       "      <td>1987</td>\n",
       "      <td>https://www.imdb.com/title/tt0092965/</td>\n",
       "      <td>GenresDramaWar</td>\n",
       "    </tr>\n",
       "    <tr>\n",
       "      <th>4</th>\n",
       "      <td>Alien</td>\n",
       "      <td>1979</td>\n",
       "      <td>https://www.imdb.com/title/tt0078748/</td>\n",
       "      <td>GenresHorrorSci-Fi</td>\n",
       "    </tr>\n",
       "    <tr>\n",
       "      <th>5</th>\n",
       "      <td>Apocalypse Now</td>\n",
       "      <td>1979</td>\n",
       "      <td>https://www.imdb.com/title/tt0078788/</td>\n",
       "      <td>GenresDramaMysteryWar</td>\n",
       "    </tr>\n",
       "    <tr>\n",
       "      <th>6</th>\n",
       "      <td>Star Wars Episode V - The Empire Strikes Back</td>\n",
       "      <td>1980</td>\n",
       "      <td>https://www.imdb.com/title/tt0080684/</td>\n",
       "      <td>GenresActionAdventureFantasySci-Fi</td>\n",
       "    </tr>\n",
       "    <tr>\n",
       "      <th>7</th>\n",
       "      <td>The Thing</td>\n",
       "      <td>1982</td>\n",
       "      <td>https://www.imdb.com/title/tt0084787/?ref_=nv_...</td>\n",
       "      <td>GenresHorrorMysterySci-Fi</td>\n",
       "    </tr>\n",
       "    <tr>\n",
       "      <th>8</th>\n",
       "      <td>Star Wars Episode VI - Return Of The Jedi</td>\n",
       "      <td>1983</td>\n",
       "      <td>https://www.imdb.com/title/tt0086190/</td>\n",
       "      <td>GenresActionAdventureFantasySci-Fi</td>\n",
       "    </tr>\n",
       "    <tr>\n",
       "      <th>9</th>\n",
       "      <td>Aliens</td>\n",
       "      <td>1986</td>\n",
       "      <td>https://www.imdb.com/title/tt0090605/</td>\n",
       "      <td>GenresActionAdventureHorrorSci-FiThriller</td>\n",
       "    </tr>\n",
       "  </tbody>\n",
       "</table>\n",
       "</div>"
      ],
      "text/plain": [
       "                                             Name  Year  \\\n",
       "0                               The Great Escape   1963   \n",
       "1                                         Patton   1970   \n",
       "2              Star Wars Episode IV - A New Hope   1977   \n",
       "3                              Empire of the Sun   1987   \n",
       "4                                          Alien   1979   \n",
       "5                                 Apocalypse Now   1979   \n",
       "6  Star Wars Episode V - The Empire Strikes Back   1980   \n",
       "7                                      The Thing   1982   \n",
       "8      Star Wars Episode VI - Return Of The Jedi   1983   \n",
       "9                                         Aliens   1986   \n",
       "\n",
       "                                                Link  \\\n",
       "0              https://www.imdb.com/title/tt0057115/   \n",
       "1              https://www.imdb.com/title/tt0066206/   \n",
       "2              https://www.imdb.com/title/tt0076759/   \n",
       "3              https://www.imdb.com/title/tt0092965/   \n",
       "4              https://www.imdb.com/title/tt0078748/   \n",
       "5              https://www.imdb.com/title/tt0078788/   \n",
       "6              https://www.imdb.com/title/tt0080684/   \n",
       "7  https://www.imdb.com/title/tt0084787/?ref_=nv_...   \n",
       "8              https://www.imdb.com/title/tt0086190/   \n",
       "9              https://www.imdb.com/title/tt0090605/   \n",
       "\n",
       "                                      Genres  \n",
       "0            GenresAdventureDramaThrillerWar  \n",
       "1                    GenresBiographyDramaWar  \n",
       "2         GenresActionAdventureFantasySci-Fi  \n",
       "3                             GenresDramaWar  \n",
       "4                         GenresHorrorSci-Fi  \n",
       "5                      GenresDramaMysteryWar  \n",
       "6         GenresActionAdventureFantasySci-Fi  \n",
       "7                  GenresHorrorMysterySci-Fi  \n",
       "8         GenresActionAdventureFantasySci-Fi  \n",
       "9  GenresActionAdventureHorrorSci-FiThriller  "
      ]
     },
     "execution_count": 5,
     "metadata": {},
     "output_type": "execute_result"
    }
   ],
   "source": [
    "scraped = pd.read_csv(\"imdb_genres_complete.csv\")\n",
    "scraped.head(10)"
   ]
  }
 ],
 "metadata": {
  "kernelspec": {
   "display_name": "Python 3 (ipykernel)",
   "language": "python",
   "name": "python3"
  },
  "language_info": {
   "codemirror_mode": {
    "name": "ipython",
    "version": 3
   },
   "file_extension": ".py",
   "mimetype": "text/x-python",
   "name": "python",
   "nbconvert_exporter": "python",
   "pygments_lexer": "ipython3",
   "version": "3.12.3"
  }
 },
 "nbformat": 4,
 "nbformat_minor": 5
}
